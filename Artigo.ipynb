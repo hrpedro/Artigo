{
 "cells": [
  {
   "cell_type": "code",
   "execution_count": 77,
   "id": "326e23ed",
   "metadata": {},
   "outputs": [],
   "source": [
    "#bibliotecas\n",
    "import numpy as np \n",
    "import numpy.random as nrd\n",
    "import matplotlib.pyplot as plt"
   ]
  },
  {
   "cell_type": "markdown",
   "id": "f9576208",
   "metadata": {},
   "source": [
    "Método Monte Carlo (intervalo finito) - f(x) = x log(x) | 1 < x < 5"
   ]
  },
  {
   "cell_type": "code",
   "execution_count": 78,
   "id": "32304ed5",
   "metadata": {},
   "outputs": [
    {
     "name": "stdout",
     "output_type": "stream",
     "text": [
      "Média dos 100 resultados para N=100: 13.998667675178204\n",
      "Média dos 100 resultados para N=1000: 14.102346269247779\n",
      "Média dos 100 resultados para N=10000: 14.114390530193424\n",
      "Média dos 100 resultados para N=100000: 14.118370189860189\n"
     ]
    }
   ],
   "source": [
    "# Limites de integração\n",
    "a = 1\n",
    "b = 5\n",
    "\n",
    "# Função a ser integrada\n",
    "def f_MC(x):\n",
    "    return x * np.log(x)\n",
    "\n",
    "Ns = [100, 1000, 10000, 100000]\n",
    "medias = []\n",
    "\n",
    "for N in Ns:\n",
    "    resultados = []\n",
    "    for i in range(100):\n",
    "        h_total = 0\n",
    "        for c in range(N):\n",
    "            y = nrd.random()\n",
    "            h = (b - a) * f_MC(a + (b - a) * y)\n",
    "            h_total += h\n",
    "        integral = h_total / N\n",
    "        resultados.append(integral)\n",
    "    media = np.mean(resultados)\n",
    "    medias.append(media)\n",
    "    print(f\"Média dos 100 resultados para N={N}: {media}\")\n"
   ]
  },
  {
   "cell_type": "markdown",
   "id": "b04f6d35",
   "metadata": {},
   "source": [
    "Método do Trapézio e Regra de Simpson - f(x) = x log(x) | 1 < x < 5"
   ]
  },
  {
   "cell_type": "code",
   "execution_count": 79,
   "id": "206330a6",
   "metadata": {},
   "outputs": [
    {
     "name": "stdout",
     "output_type": "stream",
     "text": [
      "Integral de f(x) de 1 a 5: 14.117973905426254\n",
      "Integral de f(x) de 1 a 5 usando regra do trapézio: 14.139399699378515\n",
      "Erro absoluto da regra do trapézio: 0.021425793952261074\n",
      "Integral de f(x) de 1 a 5 usando regra de Simpson: 14.118097730181821\n",
      "Erro absoluto da regra de Simpson: 0.00012382475556727002\n",
      "Erros absolutos do método de Monte Carlo para cada N: [np.float64(0.11930623024804987), np.float64(0.015627636178475512), np.float64(0.003583375232830477), np.float64(0.00039628443393446844)]\n"
     ]
    },
    {
     "data": {
      "image/png": "[encoded data removed]",
      "text/plain": [
       "<Figure size 600x400 with 1 Axes>"
      ]
     },
     "metadata": {},
     "output_type": "display_data"
    }
   ],
   "source": [
    "# Definição da função f(x) = x log(x)\n",
    "def f(x): \n",
    "    return x * np.log(x)\n",
    "\n",
    "# Definição da função primitiva de f(x)\n",
    "def primit_f(x):\n",
    "    return (1/4) * x**2 * (2 * np.log(x) - 1)\n",
    "\n",
    "# Cálculo da área sob a curva de f(x) de 1 a 5 usando a função primitiva\n",
    "integral = primit_f(5) - primit_f(1)\n",
    "print(f\"Integral de f(x) de 1 a 5: {integral}\")\n",
    "\n",
    "def trapezio(f, a, b, n):\n",
    "    h = (b - a) / n # Divide o intervalo [a, b] em n subintervalos\n",
    "    integral = 0.5 * (f(a) + f(b))\n",
    "    for i in range(1, n):\n",
    "        integral += f(a + i * h)\n",
    "    integral *= h\n",
    "    return integral\n",
    "\n",
    "# Cálculo da integral de f(x) de 1 a 5 usando a regra do trapézio\n",
    "\n",
    "n = 10  # Número de subintervalos\n",
    "\n",
    "integral_trapezio = trapezio(f, 1, 5, n)\n",
    "print(f\"Integral de f(x) de 1 a 5 usando regra do trapézio: {integral_trapezio}\")\n",
    "\n",
    "#Calculo do erro absoluto da regra do trapézio\n",
    "\n",
    "erro_abs = abs(integral - integral_trapezio)\n",
    "print(f\"Erro absoluto da regra do trapézio: {erro_abs}\")\n",
    "\n",
    "# Calculo da integral usando a regra de Simpson\n",
    "def simpson(f, a, b, n):\n",
    "    if n % 2 == 1:\n",
    "        n += 1  # n deve ser par\n",
    "    h = (b - a) / n\n",
    "    integral = f(a) + f(b)\n",
    "    for i in range(1, n, 2):\n",
    "        integral += 4 * f(a + i * h)\n",
    "    for i in range(2, n-1, 2):\n",
    "        integral += 2 * f(a + i * h)\n",
    "    integral *= h / 3\n",
    "    return integral\n",
    "\n",
    "# Calculo da integral de f(x) de 1 a 5 usando a regra de Simpson\n",
    "n = 10 \n",
    "integral_simpson = simpson(f, 1, 5, n)\n",
    "print(f\"Integral de f(x) de 1 a 5 usando regra de Simpson: {integral_simpson}\")\n",
    "\n",
    "# Calculo do erro absoluto da regra de Simpson\n",
    "erro_abs_simpson = abs(integral - integral_simpson)\n",
    "print(f\"Erro absoluto da regra de Simpson: {erro_abs_simpson}\")\n",
    "\n",
    "# Erro absoluto do método de Monte Carlo para cada N\n",
    "erros_mc = [abs(integral - media) for media in medias]\n",
    "\n",
    "print(\"Erros absolutos do método de Monte Carlo para cada N:\", erros_mc)\n",
    "\n",
    "# Plotando os erros\n",
    "plt.figure(figsize=(6, 4))\n",
    "plt.loglog(Ns, erros_mc, 'o', label='Erro Monte Carlo')  # Apenas pontos, sem linha\n",
    "plt.loglog(Ns, [erro_abs]*len(Ns), linestyle='--', label='Erro Trapézio')\n",
    "plt.loglog(Ns, [erro_abs_simpson]*len(Ns), linestyle='--', label='Erro Simpson')\n",
    "plt.xlabel('Número de amostras (N)')\n",
    "plt.ylabel('Erro absoluto')\n",
    "plt.title('Erro absoluto dos métodos de integração')\n",
    "plt.grid(True)\n",
    "plt.tight_layout()\n",
    "plt.legend(loc='lower center', bbox_to_anchor=(0.5, -0.3), ncol=3, frameon=False)  # Legenda centralizada abaixo\n",
    "plt.show()\n",
    "\n"
   ]
  },
  {
   "cell_type": "markdown",
   "id": "509494d2",
   "metadata": {},
   "source": [
    "Método Monte Carlo (intervalo finito) - f(x) = x exp(-x) | 0 < x < 5"
   ]
  },
  {
   "cell_type": "code",
   "execution_count": 80,
   "id": "e5a1121c",
   "metadata": {},
   "outputs": [
    {
     "name": "stdout",
     "output_type": "stream",
     "text": [
      "Média dos 100 resultados para N=100: 0.9506736309257933\n",
      "Média dos 100 resultados para N=1000: 0.9564302046008746\n",
      "Média dos 100 resultados para N=10000: 0.9590195985863194\n",
      "Média dos 100 resultados para N=100000: 0.9597619518133398\n"
     ]
    }
   ],
   "source": [
    "# Limites de integração\n",
    "a = 0\n",
    "b = 5\n",
    "\n",
    "# Função a ser integrada\n",
    "def f_MC(x):\n",
    "    return x * np.exp(-x)\n",
    "\n",
    "Ns = [100, 1000, 10000, 100000]\n",
    "medias = []\n",
    "\n",
    "for N in Ns:\n",
    "    resultados = []\n",
    "    for i in range(100):\n",
    "        h_total = 0\n",
    "        for c in range(N):\n",
    "            y = nrd.random()\n",
    "            h = (b - a) * f_MC(a + (b - a) * y)\n",
    "            h_total += h\n",
    "        integral = h_total / N\n",
    "        resultados.append(integral)\n",
    "    media = np.mean(resultados)\n",
    "    medias.append(media)\n",
    "    print(f\"Média dos 100 resultados para N={N}: {media}\")"
   ]
  },
  {
   "cell_type": "markdown",
   "id": "55b29c72",
   "metadata": {},
   "source": [
    "Método do Trapézio e Regra de Simpson (intervalo finito) - f(x) = x exp(-x) | 0 < x < 5"
   ]
  },
  {
   "cell_type": "code",
   "execution_count": 81,
   "id": "6a5ef162",
   "metadata": {},
   "outputs": [
    {
     "name": "stdout",
     "output_type": "stream",
     "text": [
      "Integral de f(x) de 0 a 5: 0.9595723180054871\n",
      "Integral de f(x) de 0 a 5 usando regra do trapézio: 0.9384365144199117\n",
      "Erro absoluto da regra do trapézio: 0.02113580358557543\n",
      "Integral de f(x) de 0 a 5 usando regra de Simpson: 0.9585758072929123\n",
      "Erro absoluto da regra de Simpson: 0.000996510712574894\n",
      "Erros absolutos do método de Monte Carlo para cada N: [np.float64(0.008898687079693879), np.float64(0.0031421134046125676), np.float64(0.0005527194191677909), np.float64(0.0001896338078526405)]\n"
     ]
    },
    {
     "data": {
      "image/png": "[encoded data removed]",
      "text/plain": [
       "<Figure size 600x400 with 1 Axes>"
      ]
     },
     "metadata": {},
     "output_type": "display_data"
    }
   ],
   "source": [
    "# Definição da função f(x) = x exp(-x)\n",
    "def f(x): \n",
    "    return x * np.exp(-x)\n",
    "\n",
    "# Definição da função primitiva de f(x)\n",
    "def primit_f(x):\n",
    "    return -np.exp(-x) * (x + 1)\n",
    "\n",
    "# Cálculo da área sob a curva de f(x) de 0 a 5 usando a função primitiva\n",
    "integral = primit_f(5) - primit_f(0)\n",
    "print(f\"Integral de f(x) de 0 a 5: {integral}\")\n",
    "\n",
    "def trapezio(f, a, b, n):\n",
    "    h = (b - a) / n # Divide o intervalo [a, b] em n subintervalos\n",
    "    integral = 0.5 * (f(a) + f(b))\n",
    "    for i in range(1, n):\n",
    "        integral += f(a + i * h)\n",
    "    integral *= h\n",
    "    return integral\n",
    "\n",
    "# Cálculo da integral de f(x) de 0 a 5 usando a regra do trapézio\n",
    "\n",
    "n = 10  # Número de subintervalos\n",
    "\n",
    "integral_trapezio = trapezio(f, 0, 5, n)\n",
    "print(f\"Integral de f(x) de 0 a 5 usando regra do trapézio: {integral_trapezio}\")\n",
    "\n",
    "#Calculo do erro absoluto da regra do trapézio\n",
    "\n",
    "erro_abs = abs(integral - integral_trapezio)\n",
    "print(f\"Erro absoluto da regra do trapézio: {erro_abs}\")\n",
    "\n",
    "# Calculo da integral usando a regra de Simpson\n",
    "def simpson(f, a, b, n):\n",
    "    if n % 2 == 1:\n",
    "        n += 1  # n deve ser par\n",
    "    h = (b - a) / n\n",
    "    integral = f(a) + f(b)\n",
    "    for i in range(1, n, 2):\n",
    "        integral += 4 * f(a + i * h)\n",
    "    for i in range(2, n-1, 2):\n",
    "        integral += 2 * f(a + i * h)\n",
    "    integral *= h / 3\n",
    "    return integral\n",
    "\n",
    "# Calculo da integral de f(x) de 0 a 5 usando a regra de Simpson\n",
    "n = 10 \n",
    "integral_simpson = simpson(f, 0, 5, n)\n",
    "print(f\"Integral de f(x) de 0 a 5 usando regra de Simpson: {integral_simpson}\")\n",
    "\n",
    "# Calculo do erro absoluto da regra de Simpson\n",
    "erro_abs_simpson = abs(integral - integral_simpson)\n",
    "print(f\"Erro absoluto da regra de Simpson: {erro_abs_simpson}\")\n",
    "\n",
    "# Erro absoluto do método de Monte Carlo para cada N\n",
    "erros_mc = [abs(integral - media) for media in medias]\n",
    "\n",
    "print(\"Erros absolutos do método de Monte Carlo para cada N:\", erros_mc)\n",
    "\n",
    "# Plotando os erros\n",
    "plt.figure(figsize=(6, 4))\n",
    "plt.loglog(Ns, erros_mc, 'o', label='Erro Monte Carlo')  # Apenas pontos, sem linha\n",
    "plt.loglog(Ns, [erro_abs]*len(Ns), linestyle='--', label='Erro Trapézio')\n",
    "plt.loglog(Ns, [erro_abs_simpson]*len(Ns), linestyle='--', label='Erro Simpson')\n",
    "plt.xlabel('Número de amostras (N)')\n",
    "plt.ylabel('Erro absoluto')\n",
    "plt.title('Erro absoluto dos métodos de integração')\n",
    "plt.grid(True)\n",
    "plt.tight_layout()\n",
    "plt.legend(loc='lower center', bbox_to_anchor=(0.5, -0.3), ncol=3, frameon=False)  # Legenda centralizada abaixo\n",
    "plt.show()"
   ]
  },
  {
   "cell_type": "markdown",
   "id": "14972e7e",
   "metadata": {},
   "source": [
    "Método Monte Carlo (intervalo infinito) - f(x) = 1/((x^2)-1) | 0 < x < infinito"
   ]
  },
  {
   "cell_type": "code",
   "execution_count": 82,
   "id": "24e687af",
   "metadata": {},
   "outputs": [
    {
     "name": "stdout",
     "output_type": "stream",
     "text": [
      "Média dos 100 resultados para N=100: 1.5692538891789158\n",
      "Média dos 100 resultados para N=1000: 1.5711546108256402\n",
      "Média dos 100 resultados para N=10000: 1.5705799483820047\n",
      "Média dos 100 resultados para N=100000: 1.5709235542789963\n"
     ]
    }
   ],
   "source": [
    "# Limites de integração\n",
    "a = 0\n",
    "b = np.inf\n",
    "\n",
    "# Função a ser integrada\n",
    "def f_MC(x):\n",
    "    return (x**2 + 1)**(-1)\n",
    "\n",
    "Ns = [100, 1000, 10000, 100000]\n",
    "medias = []\n",
    "\n",
    "for N in Ns:\n",
    "    resultados = []\n",
    "    for i in range(100):\n",
    "        h_total = 0\n",
    "        for c in range(N):\n",
    "            y = nrd.random()\n",
    "            h = (f_MC((1/y)-1)) / (y**2)\n",
    "            h_total += h\n",
    "        integral = h_total / N\n",
    "        resultados.append(integral)\n",
    "    media = np.mean(resultados)\n",
    "    medias.append(media)\n",
    "    print(f\"Média dos 100 resultados para N={N}: {media}\")"
   ]
  },
  {
   "cell_type": "markdown",
   "id": "e10acdcb",
   "metadata": {},
   "source": [
    "Método do Trapézio e Regra de Simpson (intervalo infinito) - f(x) = 1/((x^2)-1) | 0 < x < infinito"
   ]
  },
  {
   "cell_type": "code",
   "execution_count": 83,
   "id": "aa4183b0",
   "metadata": {},
   "outputs": [
    {
     "name": "stdout",
     "output_type": "stream",
     "text": [
      "Integral de f(x) de 0 a infinito usando regra do trapézio: 1.567463056915495\n",
      "Erro absoluto da regra do trapézio: 0.0033332698794015236\n",
      "Integral de f(x) de 0 a infinito usando regra de Simpson: 1.5707953880978547\n",
      "Erro absoluto da regra de Simpson: 9.386970418745477e-07\n",
      "Erros absolutos do método de Monte Carlo para cada N: [np.float64(0.0015424376159807185), np.float64(0.0003582840307436719), np.float64(0.0002163784128919044), np.float64(0.0001272274840997678)]\n"
     ]
    },
    {
     "data": {
      "image/png": "[encoded data removed]",
      "text/plain": [
       "<Figure size 600x400 with 1 Axes>"
      ]
     },
     "metadata": {},
     "output_type": "display_data"
    }
   ],
   "source": [
    "# Definição da função f(x) = (x^2 + 1)^(-1)\n",
    "def f(x): \n",
    "    return (x**2 + 1)**(-1)\n",
    "\n",
    "# Mudança de variável para intervalo infinito: x = t/(1-t), t ∈ [0, 1)\n",
    "def g(t):\n",
    "    x = t / (1 - t)\n",
    "    jac = 1 / (1 - t)**2\n",
    "    return f(x) * jac\n",
    "\n",
    "# Integral analítica de f(x) de 0 a infinito\n",
    "integral = np.pi/2  # Para f(x) = (x**2 + 1)**(-1), a integral de 0 a infinito é pi/2\n",
    "\n",
    "def trapezio_inf(g, n):\n",
    "    t0, t1 = 0, 1\n",
    "    h = (t1 - t0) / n\n",
    "    integral = 0.5 * (g(t0) + g(t1 - 1e-10))  # evita t=1\n",
    "    for i in range(1, n):\n",
    "        integral += g(t0 + i * h)\n",
    "    integral *= h\n",
    "    return integral\n",
    "\n",
    "def simpson_inf(g, n):\n",
    "    t0, t1 = 0, 1\n",
    "    if n % 2 == 1:\n",
    "        n += 1\n",
    "    h = (t1 - t0) / n\n",
    "    integral = g(t0) + g(t1 - 1e-10)\n",
    "    for i in range(1, n, 2):\n",
    "        integral += 4 * g(t0 + i * h)\n",
    "    for i in range(2, n-1, 2):\n",
    "        integral += 2 * g(t0 + i * h)\n",
    "    integral *= h / 3\n",
    "    return integral\n",
    "\n",
    "n = 10  # Número de subintervalos\n",
    "\n",
    "integral_trapezio = trapezio_inf(g, n)\n",
    "print(f\"Integral de f(x) de 0 a infinito usando regra do trapézio: {integral_trapezio}\")\n",
    "\n",
    "erro_abs_trapezio = abs(integral - integral_trapezio)\n",
    "print(f\"Erro absoluto da regra do trapézio: {erro_abs_trapezio}\")\n",
    "\n",
    "integral_simpson = simpson_inf(g, n)\n",
    "print(f\"Integral de f(x) de 0 a infinito usando regra de Simpson: {integral_simpson}\")\n",
    "\n",
    "erro_abs_simpson = abs(integral - integral_simpson)\n",
    "print(f\"Erro absoluto da regra de Simpson: {erro_abs_simpson}\")\n",
    "\n",
    "# Erro absoluto do método de Monte Carlo para cada N\n",
    "erros_mc = [abs(integral - media) for media in medias]\n",
    "print(\"Erros absolutos do método de Monte Carlo para cada N:\", erros_mc)\n",
    "\n",
    "# Plotando os erros\n",
    "plt.figure(figsize=(6, 4))\n",
    "plt.loglog(Ns, erros_mc, 'o', label='Erro Monte Carlo')\n",
    "plt.loglog(Ns, [erro_abs]*len(Ns), linestyle='--', label='Erro Trapézio')\n",
    "plt.loglog(Ns, [erro_abs_simpson]*len(Ns), linestyle='--', label='Erro Simpson')\n",
    "plt.xlabel('Número de amostras (N)')\n",
    "plt.ylabel('Erro absoluto')\n",
    "plt.title('Erro absoluto dos métodos de integração')\n",
    "plt.grid(True)\n",
    "plt.tight_layout()\n",
    "plt.legend(loc='lower center', bbox_to_anchor=(0.5, -0.3), ncol=3, frameon=False)  # Legenda centralizada abaixo\n",
    "plt.show()"
   ]
  },
  {
   "cell_type": "markdown",
   "id": "203c61e1",
   "metadata": {},
   "source": [
    "Método Monte Carlo (intervalo infinito) - f(x) = exp(-x)*sin(x) | 0 < x < infinito"
   ]
  },
  {
   "cell_type": "code",
   "execution_count": 84,
   "id": "9dcc49ee",
   "metadata": {},
   "outputs": [
    {
     "name": "stdout",
     "output_type": "stream",
     "text": [
      "Média dos 100 resultados para N=100: 0.5037240557144713\n",
      "Média dos 100 resultados para N=1000: 0.5000728985537218\n",
      "Média dos 100 resultados para N=10000: 0.499896399870986\n",
      "Média dos 100 resultados para N=100000: 0.49988884536512823\n"
     ]
    }
   ],
   "source": [
    "# Limites de integração\n",
    "a = 0\n",
    "b = np.inf\n",
    "\n",
    "# Função a ser integrada\n",
    "def f_MC(x):\n",
    "    return np.exp(-x)*np.sin(x)\n",
    "\n",
    "Ns = [100, 1000, 10000, 100000]\n",
    "medias = []\n",
    "\n",
    "for N in Ns:\n",
    "    resultados = []\n",
    "    for i in range(100):\n",
    "        h_total = 0\n",
    "        for c in range(N):\n",
    "            y = nrd.random()\n",
    "            h = (f_MC((1/y)-1)) / (y**2)\n",
    "            h_total += h\n",
    "        integral = h_total / N\n",
    "        resultados.append(integral)\n",
    "    media = np.mean(resultados)\n",
    "    medias.append(media)\n",
    "    print(f\"Média dos 100 resultados para N={N}: {media}\")"
   ]
  },
  {
   "cell_type": "markdown",
   "id": "a4073e4a",
   "metadata": {},
   "source": [
    "Método do Trapézio e Regra de Simpson (intervalo infinito) - f(x) = exp(-x) * sin(x) | 0 < x < infinito"
   ]
  },
  {
   "cell_type": "code",
   "execution_count": 85,
   "id": "6f3a24b2",
   "metadata": {},
   "outputs": [
    {
     "name": "stdout",
     "output_type": "stream",
     "text": [
      "Integral de f(x) de 0 a infinito usando regra do trapézio: 0.4924902367376093\n",
      "Erro absoluto da regra do trapézio: 0.007509763262390723\n",
      "Integral de f(x) de 0 a infinito usando regra de Simpson: 0.5081542811073172\n",
      "Erro absoluto da regra de Simpson: 0.008154281107317196\n",
      "Erros absolutos do método de Monte Carlo para cada N: [np.float64(0.0037240557144713193), np.float64(7.289855372183407e-05), np.float64(0.00010360012901400317), np.float64(0.00011115463487176847)]\n"
     ]
    },
    {
     "data": {
      "image/png": "[encoded data removed]",
      "text/plain": [
       "<Figure size 600x400 with 1 Axes>"
      ]
     },
     "metadata": {},
     "output_type": "display_data"
    }
   ],
   "source": [
    "# Definição da função f(x) = exp(-x) * sin(x)\n",
    "def f(x): \n",
    "    return np.exp(-x) * np.sin(x)\n",
    "\n",
    "# Mudança de variável para intervalo infinito: x = t/(1-t), t ∈ [0, 1)\n",
    "def g(t):\n",
    "    x = t / (1 - t)\n",
    "    jac = 1 / (1 - t)**2\n",
    "    return f(x) * jac\n",
    "\n",
    "# Integral analítica de f(x) de 0 a infinito\n",
    "integral = 0.5  # Para f(x) = exp(-x) * sin(x), sua integral de 0 ao infinito é 0.5\n",
    "\n",
    "def trapezio_inf(g, n):\n",
    "    t0, t1 = 0, 1\n",
    "    h = (t1 - t0) / n\n",
    "    integral = 0.5 * (g(t0) + g(t1 - 1e-10))  # evita t=1\n",
    "    for i in range(1, n):\n",
    "        integral += g(t0 + i * h)\n",
    "    integral *= h\n",
    "    return integral\n",
    "\n",
    "def simpson_inf(g, n):\n",
    "    t0, t1 = 0, 1\n",
    "    if n % 2 == 1:\n",
    "        n += 1\n",
    "    h = (t1 - t0) / n\n",
    "    integral = g(t0) + g(t1 - 1e-10)\n",
    "    for i in range(1, n, 2):\n",
    "        integral += 4 * g(t0 + i * h)\n",
    "    for i in range(2, n-1, 2):\n",
    "        integral += 2 * g(t0 + i * h)\n",
    "    integral *= h / 3\n",
    "    return integral\n",
    "\n",
    "n = 10  # Número de subintervalos\n",
    "\n",
    "integral_trapezio = trapezio_inf(g, n)\n",
    "print(f\"Integral de f(x) de 0 a infinito usando regra do trapézio: {integral_trapezio}\")\n",
    "\n",
    "erro_abs_trapezio = abs(integral - integral_trapezio)\n",
    "print(f\"Erro absoluto da regra do trapézio: {erro_abs_trapezio}\")\n",
    "\n",
    "integral_simpson = simpson_inf(g, n)\n",
    "print(f\"Integral de f(x) de 0 a infinito usando regra de Simpson: {integral_simpson}\")\n",
    "\n",
    "erro_abs_simpson = abs(integral - integral_simpson)\n",
    "print(f\"Erro absoluto da regra de Simpson: {erro_abs_simpson}\")\n",
    "\n",
    "# Erro absoluto do método de Monte Carlo para cada N\n",
    "erros_mc = [abs(integral - media) for media in medias]\n",
    "print(\"Erros absolutos do método de Monte Carlo para cada N:\", erros_mc)\n",
    "\n",
    "# Plotando os erros\n",
    "plt.figure(figsize=(6, 4))\n",
    "plt.loglog(Ns, erros_mc, 'o', label='Erro Monte Carlo')\n",
    "plt.loglog(Ns, [erro_abs]*len(Ns), linestyle='--', label='Erro Trapézio')\n",
    "plt.loglog(Ns, [erro_abs_simpson]*len(Ns), linestyle='--', label='Erro Simpson')\n",
    "plt.xlabel('Número de amostras (N)')\n",
    "plt.ylabel('Erro absoluto')\n",
    "plt.title('Erro absoluto dos métodos de integração')\n",
    "plt.grid(True)\n",
    "plt.tight_layout()\n",
    "plt.legend(loc='lower center', bbox_to_anchor=(0.5, -0.3), ncol=3, frameon=False)  # Legenda centralizada abaixo\n",
    "plt.show()"
   ]
  }
 ],
 "metadata": {
  "kernelspec": {
   "display_name": "Python 3",
   "language": "python",
   "name": "python3"
  },
  "language_info": {
   "codemirror_mode": {
    "name": "ipython",
    "version": 3
   },
   "file_extension": ".py",
   "mimetype": "text/x-python",
   "name": "python",
   "nbconvert_exporter": "python",
   "pygments_lexer": "ipython3",
   "version": "3.10.5"
  }
 },
 "nbformat": 4,
 "nbformat_minor": 5
}
